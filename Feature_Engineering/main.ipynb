{
 "cells": [
  {
   "cell_type": "code",
   "execution_count": 9,
   "metadata": {},
   "outputs": [],
   "source": [
    "import numpy as np\n",
    "import matplotlib.pyplot as plt"
   ]
  },
  {
   "cell_type": "code",
   "execution_count": 31,
   "metadata": {},
   "outputs": [
    {
     "data": {
      "text/plain": [
       "['5',\n",
       " 'giang',\n",
       " 'his',\n",
       " 'huy',\n",
       " 'i',\n",
       " 'my',\n",
       " 'the',\n",
       " 'a',\n",
       " 'challenges',\n",
       " 'coding',\n",
       " 'for',\n",
       " 'have',\n",
       " 'is',\n",
       " 'like',\n",
       " 'name',\n",
       " 'of',\n",
       " 'only',\n",
       " 'passion',\n",
       " 'people',\n",
       " 'percent',\n",
       " 'percentage',\n",
       " 'who']"
      ]
     },
     "execution_count": 31,
     "metadata": {},
     "output_type": "execute_result"
    }
   ],
   "source": [
    "sentences = [\"My name is Huy\", \"I have a passion for coding challenges\", \"The percentage of people who like coding is only 5 percent\", \"His name is Giang\"]\n",
    "dictionary = []\n",
    "for sentence in sentences:\n",
    "    dictionary+=(sentence.split(\" \"))\n",
    "dictionary = list(map(lambda text: text.lower(), sorted(set(dictionary))))\n",
    "dictionary"
   ]
  },
  {
   "cell_type": "markdown",
   "metadata": {},
   "source": [
    "# Bag of words"
   ]
  },
  {
   "cell_type": "code",
   "execution_count": 32,
   "metadata": {},
   "outputs": [
    {
     "name": "stdout",
     "output_type": "stream",
     "text": [
      "[0. 0. 0. 1. 0. 1. 0. 0. 0. 0. 0. 0. 1. 0. 1. 0. 0. 0. 0. 0. 0. 0.]\n",
      "[0. 0. 0. 0. 1. 0. 0. 1. 1. 1. 1. 1. 0. 0. 0. 0. 0. 1. 0. 0. 0. 0.]\n",
      "[1. 0. 0. 0. 0. 0. 1. 0. 0. 1. 0. 0. 1. 1. 0. 1. 1. 0. 1. 1. 1. 1.]\n",
      "[0. 1. 1. 0. 0. 0. 0. 0. 0. 0. 0. 0. 1. 0. 1. 0. 0. 0. 0. 0. 0. 0.]\n"
     ]
    }
   ],
   "source": [
    "def BagOfWords(sentence: str):\n",
    "    words = sentence.split(\" \")\n",
    "    words = list(map(lambda text: text.lower(), words))\n",
    "    results = np.zeros(len(dictionary))\n",
    "    for word in words:\n",
    "        for i, w in enumerate(dictionary):\n",
    "            if w == word:\n",
    "                results[i] += 1\n",
    "    return results\n",
    "\n",
    "for sentence in sentences:\n",
    "    print(BagOfWords(sentence))\n"
   ]
  },
  {
   "cell_type": "markdown",
   "metadata": {},
   "source": [
    "# N-Gram"
   ]
  },
  {
   "cell_type": "code",
   "execution_count": 52,
   "metadata": {},
   "outputs": [
    {
     "data": {
      "text/plain": [
       "Counter({('hanoi', 'is'): 2,\n",
       "         ('is', 'larger'): 1,\n",
       "         ('larger', 'than'): 1,\n",
       "         ('than', 'ho'): 1,\n",
       "         ('ho', 'chi'): 1,\n",
       "         ('chi', 'minh'): 1,\n",
       "         ('minh', 'city'): 1,\n",
       "         ('city', 'and'): 1,\n",
       "         ('and', 'hanoi'): 1})"
      ]
     },
     "execution_count": 52,
     "metadata": {},
     "output_type": "execute_result"
    }
   ],
   "source": [
    "from collections import Counter\n",
    "def generate_n_gram(sentence, n):\n",
    "    words = sentence.split(\" \")\n",
    "    words = list(map(lambda text: text.lower(), words))\n",
    "    results = [tuple(words[i:i+n]) for i in range(len(words)-n+1)]\n",
    "    return results\n",
    "ngrams = generate_n_gram(\"Hanoi is larger than Ho Chi Minh City and Hanoi is\", 2)\n",
    "Counter(ngrams)"
   ]
  },
  {
   "cell_type": "code",
   "execution_count": 56,
   "metadata": {},
   "outputs": [
    {
     "name": "stdout",
     "output_type": "stream",
     "text": [
      "CountVectorizer(ngram_range=(2, 2))\n"
     ]
    },
    {
     "data": {
      "text/plain": [
       "{'hanoi is': 2,\n",
       " 'is larger': 4,\n",
       " 'larger than': 5,\n",
       " 'than ho': 8,\n",
       " 'ho chi': 3,\n",
       " 'chi minh': 0,\n",
       " 'minh city': 6,\n",
       " 'city is': 1,\n",
       " 'than hanoi': 7}"
      ]
     },
     "execution_count": 56,
     "metadata": {},
     "output_type": "execute_result"
    }
   ],
   "source": [
    "from sklearn.feature_extraction.text import CountVectorizer\n",
    "sentences = [\"Hanoi is larger than Ho Chi Minh City\", \"Ho Chi Minh City is larger than Hanoi\"]\n",
    "vect = CountVectorizer(ngram_range=(2,2))\n",
    "ngrams = vect.fit(sentences)\n",
    "print(ngrams)\n",
    "vect.vocabulary_"
   ]
  },
  {
   "cell_type": "code",
   "execution_count": 58,
   "metadata": {},
   "outputs": [
    {
     "name": "stdout",
     "output_type": "stream",
     "text": [
      "[1 0 0 1 1 1 1 0 0 0 0 1 0 0 0 0 1 0 1 0 0 0 0 0] [0 1 0 0 0 0 1 1 0 0 0 0 1 0 1 0 0 1 0 0 1 1 0 0] [0 1 0 0 0 0 0 0 1 0 0 0 0 1 1 1 0 0 0 0 0 0 0 1] [0 0 1 0 0 0 0 0 0 1 1 0 0 0 0 0 0 0 0 1 0 0 1 0]\n"
     ]
    },
    {
     "data": {
      "text/plain": [
       "(np.float64(3.7416573867739413),\n",
       " np.float64(3.1622776601683795),\n",
       " np.float64(3.3166247903554))"
      ]
     },
     "execution_count": 58,
     "metadata": {},
     "output_type": "execute_result"
    }
   ],
   "source": [
    "from scipy.spatial.distance import euclidean\n",
    "\n",
    "vect = CountVectorizer(ngram_range = (3, 3), analyzer = 'char_wb')\n",
    "n1, n2, n3, n4 = vect.fit_transform(['andersen', 'peterson', 'petrov', 'smith']).toarray()\n",
    "print(n1, n2, n3, n4)\n",
    "euclidean(n1, n2), euclidean(n2, n3), euclidean(n3, n4)"
   ]
  },
  {
   "cell_type": "markdown",
   "metadata": {},
   "source": [
    "# TF-IDF"
   ]
  },
  {
   "cell_type": "code",
   "execution_count": 69,
   "metadata": {},
   "outputs": [
    {
     "data": {
      "text/plain": [
       "np.float64(1.0)"
      ]
     },
     "execution_count": 69,
     "metadata": {},
     "output_type": "execute_result"
    }
   ],
   "source": [
    "np.log(np.e)"
   ]
  },
  {
   "cell_type": "code",
   "execution_count": 72,
   "metadata": {},
   "outputs": [
    {
     "name": "stdout",
     "output_type": "stream",
     "text": [
      "Counter({'sun': 4, 'bright': 3, 'sky': 2, 'blue': 1, 'today': 1, 'can': 1, 'see': 1, 'shining': 1})\n"
     ]
    },
    {
     "data": {
      "text/plain": [
       "(Counter({'sun': 0.2857142857142857,\n",
       "          'bright': 0.21428571428571427,\n",
       "          'sky': 0.14285714285714285,\n",
       "          'blue': 0.07142857142857142,\n",
       "          'today': 0.07142857142857142,\n",
       "          'can': 0.07142857142857142,\n",
       "          'see': 0.07142857142857142,\n",
       "          'shining': 0.07142857142857142}),\n",
       " Counter({'blue': np.float64(1.146128035678238),\n",
       "          'today': np.float64(1.146128035678238),\n",
       "          'can': np.float64(1.146128035678238),\n",
       "          'see': np.float64(1.146128035678238),\n",
       "          'shining': np.float64(1.146128035678238),\n",
       "          'sky': np.float64(0.8450980400142568),\n",
       "          'bright': np.float64(0.6690067809585756),\n",
       "          'sun': np.float64(0.5440680443502757)}))"
      ]
     },
     "execution_count": 72,
     "metadata": {},
     "output_type": "execute_result"
    }
   ],
   "source": [
    "sentences = [\"sky blue\",\n",
    "             \"sun bright today\",\n",
    "             \"sun sky bright\",\n",
    "             \"can see shining sun bright sun\"]\n",
    "def TF_IDF(docs):\n",
    "    words = []\n",
    "    for sentence in docs:\n",
    "        words += sentence.split(\" \")\n",
    "    words = [word.lower() for word in words]\n",
    "    totas_words = len(words)\n",
    "    freqs = Counter(words)\n",
    "    tf = freqs.copy()\n",
    "    idf = freqs.copy()\n",
    "    print(freqs)\n",
    "    for f in freqs.keys():\n",
    "        tf[f] = freqs[f] / totas_words\n",
    "        idf[f] = np.log10(totas_words / freqs[f])\n",
    "    return tf, idf\n",
    "TF_IDF(sentences)\n"
   ]
  },
  {
   "cell_type": "code",
   "execution_count": 75,
   "metadata": {},
   "outputs": [
    {
     "data": {
      "text/plain": [
       "np.float64(0.6020599913279624)"
      ]
     },
     "execution_count": 75,
     "metadata": {},
     "output_type": "execute_result"
    }
   ],
   "source": [
    "np.log10(4/1)"
   ]
  }
 ],
 "metadata": {
  "kernelspec": {
   "display_name": "base",
   "language": "python",
   "name": "python3"
  },
  "language_info": {
   "codemirror_mode": {
    "name": "ipython",
    "version": 3
   },
   "file_extension": ".py",
   "mimetype": "text/x-python",
   "name": "python",
   "nbconvert_exporter": "python",
   "pygments_lexer": "ipython3",
   "version": "3.12.3"
  }
 },
 "nbformat": 4,
 "nbformat_minor": 2
}
